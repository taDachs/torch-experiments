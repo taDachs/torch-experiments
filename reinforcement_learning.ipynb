{
 "cells": [
  {
   "cell_type": "markdown",
   "id": "dbd20a59-82c4-41b7-9863-b3b5f5779c85",
   "metadata": {},
   "source": [
    "# Reinforcement Learning"
   ]
  },
  {
   "cell_type": "markdown",
   "id": "845fde6e-6067-4ebc-aaa4-3e765286634c",
   "metadata": {},
   "source": [
    "## Preliminary"
   ]
  },
  {
   "cell_type": "code",
   "execution_count": 1,
   "id": "a6c1fa9a-d687-4b82-8f6c-213f965c1866",
   "metadata": {
    "scrolled": true
   },
   "outputs": [
    {
     "name": "stderr",
     "output_type": "stream",
     "text": [
      "bash: warning: setlocale: LC_ALL: cannot change locale (en_US.UTF-7)\n"
     ]
    },
    {
     "name": "stdout",
     "output_type": "stream",
     "text": [
      "Defaulting to user installation because normal site-packages is not writeable\n",
      "Requirement already satisfied: gymnasium[all] in /home/max/.local/lib/python3.10/site-packages (0.29.1)\n",
      "Requirement already satisfied: ipywidgets in /home/max/.local/lib/python3.10/site-packages (8.1.2)\n",
      "Requirement already satisfied: jupyter_contrib_nbextensions in /home/max/.local/lib/python3.10/site-packages (0.7.0)\n",
      "Requirement already satisfied: typing-extensions>=4.3.0 in /home/max/.local/lib/python3.10/site-packages (from gymnasium[all]) (4.11.0)\n",
      "Requirement already satisfied: cloudpickle>=1.2.0 in /home/max/.local/lib/python3.10/site-packages (from gymnasium[all]) (3.0.0)\n",
      "Requirement already satisfied: numpy>=1.21.0 in /home/max/.local/lib/python3.10/site-packages (from gymnasium[all]) (1.26.4)\n",
      "Requirement already satisfied: farama-notifications>=0.0.1 in /home/max/.local/lib/python3.10/site-packages (from gymnasium[all]) (0.0.4)\n",
      "Requirement already satisfied: pygame>=2.1.3 in /home/max/.local/lib/python3.10/site-packages (from gymnasium[all]) (2.5.2)\n",
      "Requirement already satisfied: matplotlib>=3.0 in /home/max/.local/lib/python3.10/site-packages (from gymnasium[all]) (3.8.3)\n",
      "Requirement already satisfied: moviepy>=1.0.0 in /home/max/.local/lib/python3.10/site-packages (from gymnasium[all]) (1.0.3)\n",
      "Requirement already satisfied: mujoco-py<2.2,>=2.1 in /home/max/.local/lib/python3.10/site-packages (from gymnasium[all]) (2.1.2.14)\n",
      "Requirement already satisfied: box2d-py==2.3.5 in /home/max/.local/lib/python3.10/site-packages (from gymnasium[all]) (2.3.5)\n",
      "Requirement already satisfied: lz4>=3.1.0 in /home/max/.local/lib/python3.10/site-packages (from gymnasium[all]) (4.3.3)\n",
      "Requirement already satisfied: imageio>=2.14.1 in /home/max/.local/lib/python3.10/site-packages (from gymnasium[all]) (2.34.0)\n",
      "Requirement already satisfied: jax>=0.4.0 in /home/max/.local/lib/python3.10/site-packages (from gymnasium[all]) (0.4.26)\n",
      "Requirement already satisfied: cython<3 in /home/max/.local/lib/python3.10/site-packages (from gymnasium[all]) (0.29.37)\n",
      "Requirement already satisfied: mujoco>=2.3.3 in /home/max/.local/lib/python3.10/site-packages (from gymnasium[all]) (3.1.4)\n",
      "Requirement already satisfied: swig==4.* in /home/max/.local/lib/python3.10/site-packages (from gymnasium[all]) (4.2.1)\n",
      "Requirement already satisfied: shimmy[atari]<1.0,>=0.1.0 in /home/max/.local/lib/python3.10/site-packages (from gymnasium[all]) (0.2.1)\n",
      "Requirement already satisfied: torch>=1.0.0 in /home/max/.local/lib/python3.10/site-packages (from gymnasium[all]) (2.2.1)\n",
      "Requirement already satisfied: opencv-python>=3.0 in /home/max/.local/lib/python3.10/site-packages (from gymnasium[all]) (4.9.0.80)\n",
      "Requirement already satisfied: jaxlib>=0.4.0 in /home/max/.local/lib/python3.10/site-packages (from gymnasium[all]) (0.4.26)\n",
      "Requirement already satisfied: comm>=0.1.3 in /home/max/.local/lib/python3.10/site-packages (from ipywidgets) (0.2.2)\n",
      "Requirement already satisfied: widgetsnbextension~=4.0.10 in /home/max/.local/lib/python3.10/site-packages (from ipywidgets) (4.0.10)\n",
      "Requirement already satisfied: ipython>=6.1.0 in /home/max/.local/lib/python3.10/site-packages (from ipywidgets) (8.23.0)\n",
      "Requirement already satisfied: jupyterlab-widgets~=3.0.10 in /home/max/.local/lib/python3.10/site-packages (from ipywidgets) (3.0.10)\n",
      "Requirement already satisfied: traitlets>=4.3.1 in /home/max/.local/lib/python3.10/site-packages (from ipywidgets) (5.14.3)\n",
      "Requirement already satisfied: lxml in /home/max/.local/lib/python3.10/site-packages (from jupyter_contrib_nbextensions) (5.2.1)\n",
      "Requirement already satisfied: nbconvert>=6.0 in /home/max/.local/lib/python3.10/site-packages (from jupyter_contrib_nbextensions) (7.16.3)\n",
      "Requirement already satisfied: jupyter-highlight-selected-word>=0.1.1 in /home/max/.local/lib/python3.10/site-packages (from jupyter_contrib_nbextensions) (0.2.0)\n",
      "Requirement already satisfied: tornado in /home/max/.local/lib/python3.10/site-packages (from jupyter_contrib_nbextensions) (6.4)\n",
      "Requirement already satisfied: notebook>=6.0 in /home/max/.local/lib/python3.10/site-packages (from jupyter_contrib_nbextensions) (7.1.3)\n",
      "Requirement already satisfied: jupyter-core in /home/max/.local/lib/python3.10/site-packages (from jupyter_contrib_nbextensions) (5.7.2)\n",
      "Requirement already satisfied: ipython-genutils in /home/max/.local/lib/python3.10/site-packages (from jupyter_contrib_nbextensions) (0.2.0)\n",
      "Requirement already satisfied: jupyter-nbextensions-configurator>=0.4.0 in /home/max/.local/lib/python3.10/site-packages (from jupyter_contrib_nbextensions) (0.6.3)\n",
      "Requirement already satisfied: jupyter-contrib-core>=0.3.3 in /home/max/.local/lib/python3.10/site-packages (from jupyter_contrib_nbextensions) (0.4.2)\n",
      "Requirement already satisfied: pillow>=8.3.2 in /home/max/.local/lib/python3.10/site-packages (from imageio>=2.14.1->gymnasium[all]) (10.3.0)\n",
      "Requirement already satisfied: matplotlib-inline in /home/max/.local/lib/python3.10/site-packages (from ipython>=6.1.0->ipywidgets) (0.1.7)\n",
      "Requirement already satisfied: stack-data in /home/max/.local/lib/python3.10/site-packages (from ipython>=6.1.0->ipywidgets) (0.6.3)\n",
      "Requirement already satisfied: jedi>=0.16 in /home/max/.local/lib/python3.10/site-packages (from ipython>=6.1.0->ipywidgets) (0.19.1)\n",
      "Requirement already satisfied: decorator in /home/max/.local/lib/python3.10/site-packages (from ipython>=6.1.0->ipywidgets) (4.4.2)\n",
      "Requirement already satisfied: exceptiongroup in /home/max/.local/lib/python3.10/site-packages (from ipython>=6.1.0->ipywidgets) (1.2.1)\n",
      "Requirement already satisfied: pexpect>4.3 in /home/max/.local/lib/python3.10/site-packages (from ipython>=6.1.0->ipywidgets) (4.9.0)\n",
      "Requirement already satisfied: prompt-toolkit<3.1.0,>=3.0.41 in /home/max/.local/lib/python3.10/site-packages (from ipython>=6.1.0->ipywidgets) (3.0.43)\n",
      "Requirement already satisfied: pygments>=2.4.0 in /home/max/.local/lib/python3.10/site-packages (from ipython>=6.1.0->ipywidgets) (2.17.2)\n",
      "Requirement already satisfied: ml-dtypes>=0.2.0 in /home/max/.local/lib/python3.10/site-packages (from jax>=0.4.0->gymnasium[all]) (0.4.0)\n",
      "Requirement already satisfied: opt-einsum in /home/max/.local/lib/python3.10/site-packages (from jax>=0.4.0->gymnasium[all]) (3.3.0)\n",
      "Requirement already satisfied: scipy>=1.9 in /home/max/.local/lib/python3.10/site-packages (from jax>=0.4.0->gymnasium[all]) (1.13.0)\n",
      "Requirement already satisfied: setuptools in /usr/lib/python3/dist-packages (from jupyter-contrib-core>=0.3.3->jupyter_contrib_nbextensions) (59.6.0)\n",
      "Requirement already satisfied: pyyaml in /home/max/.local/lib/python3.10/site-packages (from jupyter-nbextensions-configurator>=0.4.0->jupyter_contrib_nbextensions) (6.0.1)\n",
      "Requirement already satisfied: kiwisolver>=1.3.1 in /home/max/.local/lib/python3.10/site-packages (from matplotlib>=3.0->gymnasium[all]) (1.4.5)\n",
      "Requirement already satisfied: fonttools>=4.22.0 in /home/max/.local/lib/python3.10/site-packages (from matplotlib>=3.0->gymnasium[all]) (4.51.0)\n",
      "Requirement already satisfied: pyparsing>=2.3.1 in /usr/lib/python3/dist-packages (from matplotlib>=3.0->gymnasium[all]) (2.4.7)\n",
      "Requirement already satisfied: packaging>=20.0 in /home/max/.local/lib/python3.10/site-packages (from matplotlib>=3.0->gymnasium[all]) (24.0)\n",
      "Requirement already satisfied: python-dateutil>=2.7 in /home/max/.local/lib/python3.10/site-packages (from matplotlib>=3.0->gymnasium[all]) (2.9.0.post0)\n",
      "Requirement already satisfied: contourpy>=1.0.1 in /home/max/.local/lib/python3.10/site-packages (from matplotlib>=3.0->gymnasium[all]) (1.2.1)\n",
      "Requirement already satisfied: cycler>=0.10 in /home/max/.local/lib/python3.10/site-packages (from matplotlib>=3.0->gymnasium[all]) (0.12.1)\n",
      "Requirement already satisfied: tqdm<5.0,>=4.11.2 in /home/max/.local/lib/python3.10/site-packages (from moviepy>=1.0.0->gymnasium[all]) (4.66.2)\n",
      "Requirement already satisfied: requests<3.0,>=2.8.1 in /home/max/.local/lib/python3.10/site-packages (from moviepy>=1.0.0->gymnasium[all]) (2.31.0)\n",
      "Requirement already satisfied: imageio-ffmpeg>=0.2.0 in /home/max/.local/lib/python3.10/site-packages (from moviepy>=1.0.0->gymnasium[all]) (0.4.9)\n",
      "Requirement already satisfied: proglog<=1.0.0 in /home/max/.local/lib/python3.10/site-packages (from moviepy>=1.0.0->gymnasium[all]) (0.1.10)\n",
      "Requirement already satisfied: etils[epath] in /home/max/.local/lib/python3.10/site-packages (from mujoco>=2.3.3->gymnasium[all]) (1.7.0)\n",
      "Requirement already satisfied: glfw in /home/max/.local/lib/python3.10/site-packages (from mujoco>=2.3.3->gymnasium[all]) (2.7.0)\n",
      "Requirement already satisfied: absl-py in /home/max/.local/lib/python3.10/site-packages (from mujoco>=2.3.3->gymnasium[all]) (2.1.0)\n",
      "Requirement already satisfied: pyopengl in /home/max/.local/lib/python3.10/site-packages (from mujoco>=2.3.3->gymnasium[all]) (3.1.7)\n",
      "Requirement already satisfied: fasteners~=0.15 in /home/max/.local/lib/python3.10/site-packages (from mujoco-py<2.2,>=2.1->gymnasium[all]) (0.19)\n",
      "Requirement already satisfied: cffi>=1.10 in /home/max/.local/lib/python3.10/site-packages (from mujoco-py<2.2,>=2.1->gymnasium[all]) (1.16.0)\n",
      "Requirement already satisfied: nbclient>=0.5.0 in /home/max/.local/lib/python3.10/site-packages (from nbconvert>=6.0->jupyter_contrib_nbextensions) (0.10.0)\n",
      "Requirement already satisfied: markupsafe>=2.0 in /home/max/.local/lib/python3.10/site-packages (from nbconvert>=6.0->jupyter_contrib_nbextensions) (2.1.5)\n",
      "Requirement already satisfied: jupyterlab-pygments in /home/max/.local/lib/python3.10/site-packages (from nbconvert>=6.0->jupyter_contrib_nbextensions) (0.3.0)\n",
      "Requirement already satisfied: tinycss2 in /home/max/.local/lib/python3.10/site-packages (from nbconvert>=6.0->jupyter_contrib_nbextensions) (1.2.1)\n",
      "Requirement already satisfied: pandocfilters>=1.4.1 in /home/max/.local/lib/python3.10/site-packages (from nbconvert>=6.0->jupyter_contrib_nbextensions) (1.5.1)\n",
      "Requirement already satisfied: mistune<4,>=2.0.3 in /home/max/.local/lib/python3.10/site-packages (from nbconvert>=6.0->jupyter_contrib_nbextensions) (3.0.2)\n",
      "Requirement already satisfied: beautifulsoup4 in /home/max/.local/lib/python3.10/site-packages (from nbconvert>=6.0->jupyter_contrib_nbextensions) (4.12.3)\n",
      "Requirement already satisfied: bleach!=5.0.0 in /home/max/.local/lib/python3.10/site-packages (from nbconvert>=6.0->jupyter_contrib_nbextensions) (6.1.0)\n",
      "Requirement already satisfied: nbformat>=5.7 in /home/max/.local/lib/python3.10/site-packages (from nbconvert>=6.0->jupyter_contrib_nbextensions) (5.10.4)\n",
      "Requirement already satisfied: defusedxml in /home/max/.local/lib/python3.10/site-packages (from nbconvert>=6.0->jupyter_contrib_nbextensions) (0.7.1)\n",
      "Requirement already satisfied: jinja2>=3.0 in /home/max/.local/lib/python3.10/site-packages (from nbconvert>=6.0->jupyter_contrib_nbextensions) (3.1.3)\n",
      "Requirement already satisfied: platformdirs>=2.5 in /home/max/.local/lib/python3.10/site-packages (from jupyter-core->jupyter_contrib_nbextensions) (4.2.0)\n",
      "Requirement already satisfied: jupyterlab<4.2,>=4.1.1 in /home/max/.local/lib/python3.10/site-packages (from notebook>=6.0->jupyter_contrib_nbextensions) (4.1.5)\n",
      "Requirement already satisfied: notebook-shim<0.3,>=0.2 in /home/max/.local/lib/python3.10/site-packages (from notebook>=6.0->jupyter_contrib_nbextensions) (0.2.4)\n",
      "Requirement already satisfied: jupyter-server<3,>=2.4.0 in /home/max/.local/lib/python3.10/site-packages (from notebook>=6.0->jupyter_contrib_nbextensions) (2.14.0)\n",
      "Requirement already satisfied: jupyterlab-server<3,>=2.22.1 in /home/max/.local/lib/python3.10/site-packages (from notebook>=6.0->jupyter_contrib_nbextensions) (2.26.0)\n",
      "Requirement already satisfied: ale-py~=0.8.1 in /home/max/.local/lib/python3.10/site-packages (from shimmy[atari]<1.0,>=0.1.0->gymnasium[all]) (0.8.1)\n",
      "Requirement already satisfied: nvidia-cusolver-cu12==11.4.5.107 in /home/max/.local/lib/python3.10/site-packages (from torch>=1.0.0->gymnasium[all]) (11.4.5.107)\n",
      "Requirement already satisfied: nvidia-curand-cu12==10.3.2.106 in /home/max/.local/lib/python3.10/site-packages (from torch>=1.0.0->gymnasium[all]) (10.3.2.106)\n",
      "Requirement already satisfied: nvidia-cuda-runtime-cu12==12.1.105 in /home/max/.local/lib/python3.10/site-packages (from torch>=1.0.0->gymnasium[all]) (12.1.105)\n",
      "Requirement already satisfied: nvidia-cuda-nvrtc-cu12==12.1.105 in /home/max/.local/lib/python3.10/site-packages (from torch>=1.0.0->gymnasium[all]) (12.1.105)\n",
      "Requirement already satisfied: nvidia-cudnn-cu12==8.9.2.26 in /home/max/.local/lib/python3.10/site-packages (from torch>=1.0.0->gymnasium[all]) (8.9.2.26)\n",
      "Requirement already satisfied: nvidia-cufft-cu12==11.0.2.54 in /home/max/.local/lib/python3.10/site-packages (from torch>=1.0.0->gymnasium[all]) (11.0.2.54)\n",
      "Requirement already satisfied: nvidia-cublas-cu12==12.1.3.1 in /home/max/.local/lib/python3.10/site-packages (from torch>=1.0.0->gymnasium[all]) (12.1.3.1)\n",
      "Requirement already satisfied: nvidia-nvtx-cu12==12.1.105 in /home/max/.local/lib/python3.10/site-packages (from torch>=1.0.0->gymnasium[all]) (12.1.105)\n",
      "Requirement already satisfied: triton==2.2.0 in /home/max/.local/lib/python3.10/site-packages (from torch>=1.0.0->gymnasium[all]) (2.2.0)\n",
      "Requirement already satisfied: networkx in /home/max/.local/lib/python3.10/site-packages (from torch>=1.0.0->gymnasium[all]) (3.3)\n",
      "Requirement already satisfied: filelock in /home/max/.local/lib/python3.10/site-packages (from torch>=1.0.0->gymnasium[all]) (3.13.4)\n",
      "Requirement already satisfied: fsspec in /home/max/.local/lib/python3.10/site-packages (from torch>=1.0.0->gymnasium[all]) (2024.3.1)\n",
      "Requirement already satisfied: nvidia-nccl-cu12==2.19.3 in /home/max/.local/lib/python3.10/site-packages (from torch>=1.0.0->gymnasium[all]) (2.19.3)\n",
      "Requirement already satisfied: nvidia-cusparse-cu12==12.1.0.106 in /home/max/.local/lib/python3.10/site-packages (from torch>=1.0.0->gymnasium[all]) (12.1.0.106)\n",
      "Requirement already satisfied: nvidia-cuda-cupti-cu12==12.1.105 in /home/max/.local/lib/python3.10/site-packages (from torch>=1.0.0->gymnasium[all]) (12.1.105)\n",
      "Requirement already satisfied: sympy in /home/max/.local/lib/python3.10/site-packages (from torch>=1.0.0->gymnasium[all]) (1.12)\n",
      "Requirement already satisfied: nvidia-nvjitlink-cu12 in /home/max/.local/lib/python3.10/site-packages (from nvidia-cusolver-cu12==11.4.5.107->torch>=1.0.0->gymnasium[all]) (12.4.127)\n",
      "Requirement already satisfied: importlib-resources in /home/max/.local/lib/python3.10/site-packages (from ale-py~=0.8.1->shimmy[atari]<1.0,>=0.1.0->gymnasium[all]) (6.4.0)\n",
      "Requirement already satisfied: webencodings in /home/max/.local/lib/python3.10/site-packages (from bleach!=5.0.0->nbconvert>=6.0->jupyter_contrib_nbextensions) (0.5.1)\n",
      "Requirement already satisfied: six>=1.9.0 in /usr/lib/python3/dist-packages (from bleach!=5.0.0->nbconvert>=6.0->jupyter_contrib_nbextensions) (1.16.0)\n",
      "Requirement already satisfied: pycparser in /home/max/.local/lib/python3.10/site-packages (from cffi>=1.10->mujoco-py<2.2,>=2.1->gymnasium[all]) (2.22)\n",
      "Requirement already satisfied: parso<0.9.0,>=0.8.3 in /home/max/.local/lib/python3.10/site-packages (from jedi>=0.16->ipython>=6.1.0->ipywidgets) (0.8.4)\n",
      "Requirement already satisfied: jupyter-client>=7.4.4 in /home/max/.local/lib/python3.10/site-packages (from jupyter-server<3,>=2.4.0->notebook>=6.0->jupyter_contrib_nbextensions) (8.6.1)\n",
      "Requirement already satisfied: websocket-client>=1.7 in /home/max/.local/lib/python3.10/site-packages (from jupyter-server<3,>=2.4.0->notebook>=6.0->jupyter_contrib_nbextensions) (1.7.0)\n",
      "Requirement already satisfied: send2trash>=1.8.2 in /home/max/.local/lib/python3.10/site-packages (from jupyter-server<3,>=2.4.0->notebook>=6.0->jupyter_contrib_nbextensions) (1.8.3)\n",
      "Requirement already satisfied: overrides>=5.0 in /home/max/.local/lib/python3.10/site-packages (from jupyter-server<3,>=2.4.0->notebook>=6.0->jupyter_contrib_nbextensions) (7.7.0)\n",
      "Requirement already satisfied: pyzmq>=24 in /home/max/.local/lib/python3.10/site-packages (from jupyter-server<3,>=2.4.0->notebook>=6.0->jupyter_contrib_nbextensions) (26.0.2)\n",
      "Requirement already satisfied: argon2-cffi>=21.1 in /home/max/.local/lib/python3.10/site-packages (from jupyter-server<3,>=2.4.0->notebook>=6.0->jupyter_contrib_nbextensions) (23.1.0)\n",
      "Requirement already satisfied: prometheus-client>=0.9 in /home/max/.local/lib/python3.10/site-packages (from jupyter-server<3,>=2.4.0->notebook>=6.0->jupyter_contrib_nbextensions) (0.20.0)\n",
      "Requirement already satisfied: terminado>=0.8.3 in /home/max/.local/lib/python3.10/site-packages (from jupyter-server<3,>=2.4.0->notebook>=6.0->jupyter_contrib_nbextensions) (0.18.1)\n",
      "Requirement already satisfied: anyio>=3.1.0 in /home/max/.local/lib/python3.10/site-packages (from jupyter-server<3,>=2.4.0->notebook>=6.0->jupyter_contrib_nbextensions) (4.3.0)\n",
      "Requirement already satisfied: jupyter-events>=0.9.0 in /home/max/.local/lib/python3.10/site-packages (from jupyter-server<3,>=2.4.0->notebook>=6.0->jupyter_contrib_nbextensions) (0.10.0)\n",
      "Requirement already satisfied: jupyter-server-terminals>=0.4.4 in /home/max/.local/lib/python3.10/site-packages (from jupyter-server<3,>=2.4.0->notebook>=6.0->jupyter_contrib_nbextensions) (0.5.3)\n",
      "Requirement already satisfied: jupyter-lsp>=2.0.0 in /home/max/.local/lib/python3.10/site-packages (from jupyterlab<4.2,>=4.1.1->notebook>=6.0->jupyter_contrib_nbextensions) (2.2.5)\n",
      "Requirement already satisfied: tomli in /home/max/.local/lib/python3.10/site-packages (from jupyterlab<4.2,>=4.1.1->notebook>=6.0->jupyter_contrib_nbextensions) (2.0.1)\n",
      "Requirement already satisfied: async-lru>=1.0.0 in /home/max/.local/lib/python3.10/site-packages (from jupyterlab<4.2,>=4.1.1->notebook>=6.0->jupyter_contrib_nbextensions) (2.0.4)\n",
      "Requirement already satisfied: httpx>=0.25.0 in /home/max/.local/lib/python3.10/site-packages (from jupyterlab<4.2,>=4.1.1->notebook>=6.0->jupyter_contrib_nbextensions) (0.27.0)\n",
      "Requirement already satisfied: ipykernel in /home/max/.local/lib/python3.10/site-packages (from jupyterlab<4.2,>=4.1.1->notebook>=6.0->jupyter_contrib_nbextensions) (6.29.4)\n",
      "Requirement already satisfied: babel>=2.10 in /home/max/.local/lib/python3.10/site-packages (from jupyterlab-server<3,>=2.22.1->notebook>=6.0->jupyter_contrib_nbextensions) (2.14.0)\n",
      "Requirement already satisfied: jsonschema>=4.18.0 in /home/max/.local/lib/python3.10/site-packages (from jupyterlab-server<3,>=2.22.1->notebook>=6.0->jupyter_contrib_nbextensions) (4.21.1)\n",
      "Requirement already satisfied: json5>=0.9.0 in /home/max/.local/lib/python3.10/site-packages (from jupyterlab-server<3,>=2.22.1->notebook>=6.0->jupyter_contrib_nbextensions) (0.9.25)\n",
      "Requirement already satisfied: fastjsonschema>=2.15 in /home/max/.local/lib/python3.10/site-packages (from nbformat>=5.7->nbconvert>=6.0->jupyter_contrib_nbextensions) (2.19.1)\n",
      "Requirement already satisfied: ptyprocess>=0.5 in /home/max/.local/lib/python3.10/site-packages (from pexpect>4.3->ipython>=6.1.0->ipywidgets) (0.7.0)\n",
      "Requirement already satisfied: wcwidth in /home/max/.local/lib/python3.10/site-packages (from prompt-toolkit<3.1.0,>=3.0.41->ipython>=6.1.0->ipywidgets) (0.2.13)\n",
      "Requirement already satisfied: idna<4,>=2.5 in /home/max/.local/lib/python3.10/site-packages (from requests<3.0,>=2.8.1->moviepy>=1.0.0->gymnasium[all]) (3.7)\n",
      "Requirement already satisfied: charset-normalizer<4,>=2 in /home/max/.local/lib/python3.10/site-packages (from requests<3.0,>=2.8.1->moviepy>=1.0.0->gymnasium[all]) (3.3.2)\n",
      "Requirement already satisfied: urllib3<3,>=1.21.1 in /home/max/.local/lib/python3.10/site-packages (from requests<3.0,>=2.8.1->moviepy>=1.0.0->gymnasium[all]) (2.2.1)\n",
      "Requirement already satisfied: certifi>=2017.4.17 in /home/max/.local/lib/python3.10/site-packages (from requests<3.0,>=2.8.1->moviepy>=1.0.0->gymnasium[all]) (2024.2.2)\n",
      "Requirement already satisfied: soupsieve>1.2 in /home/max/.local/lib/python3.10/site-packages (from beautifulsoup4->nbconvert>=6.0->jupyter_contrib_nbextensions) (2.5)\n",
      "Requirement already satisfied: zipp in /usr/lib/python3/dist-packages (from etils[epath]->mujoco>=2.3.3->gymnasium[all]) (1.0.0)\n",
      "Requirement already satisfied: executing>=1.2.0 in /home/max/.local/lib/python3.10/site-packages (from stack-data->ipython>=6.1.0->ipywidgets) (2.0.1)\n",
      "Requirement already satisfied: pure-eval in /home/max/.local/lib/python3.10/site-packages (from stack-data->ipython>=6.1.0->ipywidgets) (0.2.2)\n",
      "Requirement already satisfied: asttokens>=2.1.0 in /home/max/.local/lib/python3.10/site-packages (from stack-data->ipython>=6.1.0->ipywidgets) (2.4.1)\n",
      "Requirement already satisfied: mpmath>=0.19 in /home/max/.local/lib/python3.10/site-packages (from sympy->torch>=1.0.0->gymnasium[all]) (1.3.0)\n",
      "Requirement already satisfied: sniffio>=1.1 in /home/max/.local/lib/python3.10/site-packages (from anyio>=3.1.0->jupyter-server<3,>=2.4.0->notebook>=6.0->jupyter_contrib_nbextensions) (1.3.1)\n",
      "Requirement already satisfied: argon2-cffi-bindings in /home/max/.local/lib/python3.10/site-packages (from argon2-cffi>=21.1->jupyter-server<3,>=2.4.0->notebook>=6.0->jupyter_contrib_nbextensions) (21.2.0)\n",
      "Requirement already satisfied: httpcore==1.* in /home/max/.local/lib/python3.10/site-packages (from httpx>=0.25.0->jupyterlab<4.2,>=4.1.1->notebook>=6.0->jupyter_contrib_nbextensions) (1.0.5)\n",
      "Requirement already satisfied: h11<0.15,>=0.13 in /home/max/.local/lib/python3.10/site-packages (from httpcore==1.*->httpx>=0.25.0->jupyterlab<4.2,>=4.1.1->notebook>=6.0->jupyter_contrib_nbextensions) (0.14.0)\n",
      "Requirement already satisfied: rpds-py>=0.7.1 in /home/max/.local/lib/python3.10/site-packages (from jsonschema>=4.18.0->jupyterlab-server<3,>=2.22.1->notebook>=6.0->jupyter_contrib_nbextensions) (0.18.0)\n",
      "Requirement already satisfied: referencing>=0.28.4 in /home/max/.local/lib/python3.10/site-packages (from jsonschema>=4.18.0->jupyterlab-server<3,>=2.22.1->notebook>=6.0->jupyter_contrib_nbextensions) (0.34.0)\n",
      "Requirement already satisfied: jsonschema-specifications>=2023.03.6 in /home/max/.local/lib/python3.10/site-packages (from jsonschema>=4.18.0->jupyterlab-server<3,>=2.22.1->notebook>=6.0->jupyter_contrib_nbextensions) (2023.12.1)\n",
      "Requirement already satisfied: attrs>=22.2.0 in /home/max/.local/lib/python3.10/site-packages (from jsonschema>=4.18.0->jupyterlab-server<3,>=2.22.1->notebook>=6.0->jupyter_contrib_nbextensions) (23.2.0)\n",
      "Requirement already satisfied: rfc3339-validator in /home/max/.local/lib/python3.10/site-packages (from jupyter-events>=0.9.0->jupyter-server<3,>=2.4.0->notebook>=6.0->jupyter_contrib_nbextensions) (0.1.4)\n",
      "Requirement already satisfied: rfc3986-validator>=0.1.1 in /home/max/.local/lib/python3.10/site-packages (from jupyter-events>=0.9.0->jupyter-server<3,>=2.4.0->notebook>=6.0->jupyter_contrib_nbextensions) (0.1.1)\n",
      "Requirement already satisfied: python-json-logger>=2.0.4 in /home/max/.local/lib/python3.10/site-packages (from jupyter-events>=0.9.0->jupyter-server<3,>=2.4.0->notebook>=6.0->jupyter_contrib_nbextensions) (2.0.7)\n",
      "Requirement already satisfied: debugpy>=1.6.5 in /home/max/.local/lib/python3.10/site-packages (from ipykernel->jupyterlab<4.2,>=4.1.1->notebook>=6.0->jupyter_contrib_nbextensions) (1.8.1)\n",
      "Requirement already satisfied: nest-asyncio in /home/max/.local/lib/python3.10/site-packages (from ipykernel->jupyterlab<4.2,>=4.1.1->notebook>=6.0->jupyter_contrib_nbextensions) (1.6.0)\n",
      "Requirement already satisfied: psutil in /home/max/.local/lib/python3.10/site-packages (from ipykernel->jupyterlab<4.2,>=4.1.1->notebook>=6.0->jupyter_contrib_nbextensions) (5.9.8)\n",
      "Requirement already satisfied: isoduration in /home/max/.local/lib/python3.10/site-packages (from jsonschema>=4.18.0->jupyterlab-server<3,>=2.22.1->notebook>=6.0->jupyter_contrib_nbextensions) (20.11.0)\n",
      "Requirement already satisfied: jsonpointer>1.13 in /home/max/.local/lib/python3.10/site-packages (from jsonschema>=4.18.0->jupyterlab-server<3,>=2.22.1->notebook>=6.0->jupyter_contrib_nbextensions) (2.4)\n",
      "Requirement already satisfied: fqdn in /home/max/.local/lib/python3.10/site-packages (from jsonschema>=4.18.0->jupyterlab-server<3,>=2.22.1->notebook>=6.0->jupyter_contrib_nbextensions) (1.5.1)\n",
      "Requirement already satisfied: uri-template in /home/max/.local/lib/python3.10/site-packages (from jsonschema>=4.18.0->jupyterlab-server<3,>=2.22.1->notebook>=6.0->jupyter_contrib_nbextensions) (1.3.0)\n",
      "Requirement already satisfied: webcolors>=1.11 in /home/max/.local/lib/python3.10/site-packages (from jsonschema>=4.18.0->jupyterlab-server<3,>=2.22.1->notebook>=6.0->jupyter_contrib_nbextensions) (1.13)\n",
      "Requirement already satisfied: arrow>=0.15.0 in /home/max/.local/lib/python3.10/site-packages (from isoduration->jsonschema>=4.18.0->jupyterlab-server<3,>=2.22.1->notebook>=6.0->jupyter_contrib_nbextensions) (1.3.0)\n",
      "Requirement already satisfied: types-python-dateutil>=2.8.10 in /home/max/.local/lib/python3.10/site-packages (from arrow>=0.15.0->isoduration->jsonschema>=4.18.0->jupyterlab-server<3,>=2.22.1->notebook>=6.0->jupyter_contrib_nbextensions) (2.9.0.20240316)\n"
     ]
    }
   ],
   "source": [
    "%%bash\n",
    "pip3 install 'gymnasium[all]' ipywidgets jupyter_contrib_nbextensions"
   ]
  },
  {
   "cell_type": "code",
   "execution_count": 14,
   "id": "86df9de5-69aa-499a-b826-e30aee7eab56",
   "metadata": {},
   "outputs": [],
   "source": [
    "import gymnasium as gym\n",
    "import math\n",
    "import random\n",
    "import matplotlib\n",
    "import matplotlib.pyplot as plt\n",
    "from collections import namedtuple, deque\n",
    "from itertools import count\n",
    "import numpy as np\n",
    "\n",
    "import torch\n",
    "import torch.nn as nn\n",
    "import torch.optim as optim\n",
    "import torch.nn.functional as F\n",
    "\n",
    "from tqdm import tqdm \n",
    "\n",
    "\n",
    "from IPython import display\n",
    "\n",
    "# set up matplotlib\n",
    "is_ipython = 'inline' in matplotlib.get_backend()\n",
    "if is_ipython:\n",
    "    from IPython import display\n",
    "\n",
    "plt.ion()\n",
    "\n",
    "# if GPU is to be used\n",
    "device = torch.device(\"cuda\" if torch.cuda.is_available() else \"cpu\")"
   ]
  },
  {
   "cell_type": "code",
   "execution_count": 15,
   "id": "7b57e0b3-1b26-43dc-b95e-517ff0a6bd1d",
   "metadata": {},
   "outputs": [],
   "source": [
    "Transition = namedtuple('Transition',\n",
    "                        ('state', 'action', 'next_state', 'reward'))\n",
    "\n",
    "class ReplayMemory:\n",
    "\n",
    "    def __init__(self, capacity):\n",
    "        self.memory = deque([], maxlen=capacity)\n",
    "\n",
    "    def push(self, *args):\n",
    "        \"\"\"Save a transition\"\"\"\n",
    "        self.memory.append(Transition(*args))\n",
    "\n",
    "    def sample(self, batch_size):\n",
    "        return random.sample(self.memory, batch_size)\n",
    "\n",
    "    def __len__(self):\n",
    "        return len(self.memory)"
   ]
  },
  {
   "cell_type": "code",
   "execution_count": 16,
   "id": "471523f8-4c2c-45a5-9b55-fc5e90890a51",
   "metadata": {},
   "outputs": [],
   "source": [
    "%matplotlib inline"
   ]
  },
  {
   "cell_type": "markdown",
   "id": "72fc80e2-fcbf-4d3d-a469-0785bbf59722",
   "metadata": {},
   "source": [
    "## Discrete Action Spacce"
   ]
  },
  {
   "cell_type": "code",
   "execution_count": 17,
   "id": "80a53676-2f4d-4627-a6ba-b9e564c5b4af",
   "metadata": {},
   "outputs": [],
   "source": [
    "ENV = \"LunarLander-v2\"\n",
    "\n",
    "env = gym.make(ENV, continuous=False)"
   ]
  },
  {
   "cell_type": "code",
   "execution_count": 18,
   "id": "29e314c7-3305-4752-9bf3-c8cf05d3a5eb",
   "metadata": {},
   "outputs": [],
   "source": [
    "class DQN(nn.Module):\n",
    "\n",
    "    def __init__(self, n_observations, n_actions):\n",
    "        super(DQN, self).__init__()\n",
    "        self.layer1 = nn.Linear(n_observations, 128)\n",
    "        self.layer2 = nn.Linear(128, 128)\n",
    "        self.layer3 = nn.Linear(128, n_actions)\n",
    "\n",
    "    # Called with either one element to determine next action, or a batch\n",
    "    # during optimization. Returns tensor([[left0exp,right0exp]...]).\n",
    "    def forward(self, x):\n",
    "        x = F.relu(self.layer1(x))\n",
    "        x = F.relu(self.layer2(x))\n",
    "        return self.layer3(x)"
   ]
  },
  {
   "cell_type": "code",
   "execution_count": 19,
   "id": "d88fa449-c50d-4cda-88b8-65b5fab3170a",
   "metadata": {},
   "outputs": [],
   "source": [
    "# BATCH_SIZE is the number of transitions sampled from the replay buffer\n",
    "# GAMMA is the discount factor as mentioned in the previous section\n",
    "# EPS_START is the starting value of epsilon\n",
    "# EPS_END is the final value of epsilon\n",
    "# EPS_DECAY controls the rate of exponential decay of epsilon, higher means a slower decay\n",
    "# TAU is the update rate of the target network\n",
    "# LR is the learning rate of the ``AdamW`` optimizer\n",
    "BATCH_SIZE = 128\n",
    "GAMMA = 0.99\n",
    "EPS_START = 0.9\n",
    "EPS_END = 0.05\n",
    "EPS_DECAY = 1000\n",
    "TAU = 0.005\n",
    "LR = 1e-4\n",
    "\n",
    "# Get number of actions from gym action space\n",
    "n_actions = env.action_space.n\n",
    "# Get the number of state observations\n",
    "state, info = env.reset()\n",
    "n_observations = len(state)\n",
    "\n",
    "policy_net = DQN(n_observations, n_actions).to(device)\n",
    "target_net = DQN(n_observations, n_actions).to(device)\n",
    "target_net.load_state_dict(policy_net.state_dict())\n",
    "\n",
    "optimizer = optim.AdamW(policy_net.parameters(), lr=LR, amsgrad=True)\n",
    "memory = ReplayMemory(10000)\n",
    "\n",
    "\n",
    "steps_done = 0\n",
    "\n",
    "\n",
    "def select_action(state):\n",
    "    global steps_done\n",
    "    sample = random.random()\n",
    "    eps_threshold = EPS_END + (EPS_START - EPS_END) * \\\n",
    "        math.exp(-1. * steps_done / EPS_DECAY)\n",
    "    steps_done += 1\n",
    "    if sample > eps_threshold:\n",
    "        with torch.no_grad():\n",
    "            # t.max(1) will return the largest column value of each row.\n",
    "            # second column on max result is index of where max element was\n",
    "            # found, so we pick action with the larger expected reward.\n",
    "            return policy_net(state).max(1).indices.view(1, 1)\n",
    "    else:\n",
    "        return torch.tensor([[env.action_space.sample()]], device=device, dtype=torch.long)"
   ]
  },
  {
   "cell_type": "code",
   "execution_count": 20,
   "id": "c8c3bbd5-f44e-477f-b04c-635e2ba5739b",
   "metadata": {},
   "outputs": [],
   "source": [
    "episode_durations = []\n",
    "def plot_durations(show_result=False):\n",
    "    plt.figure(1)\n",
    "    durations_t = torch.tensor(episode_durations, dtype=torch.float)\n",
    "    if show_result:\n",
    "        plt.title('Result')\n",
    "    else:\n",
    "        plt.clf()\n",
    "        plt.title('Training...')\n",
    "    plt.xlabel('Episode')\n",
    "    plt.ylabel('Duration')\n",
    "    plt.plot(durations_t.numpy())\n",
    "    # Take 100 episode averages and plot them too\n",
    "    if len(durations_t) >= 100:\n",
    "        means = durations_t.unfold(0, 100, 1).mean(1).view(-1)\n",
    "        means = torch.cat((torch.zeros(99), means))\n",
    "        plt.plot(means.numpy())\n",
    "\n",
    "    plt.pause(0.001)  # pause a bit so that plots are updated\n",
    "    if is_ipython:\n",
    "        if not show_result:\n",
    "            display.display(plt.gcf())\n",
    "            display.clear_output(wait=True)\n",
    "        else:\n",
    "            display.display(plt.gcf())"
   ]
  },
  {
   "cell_type": "code",
   "execution_count": 21,
   "id": "514621fc-7428-45a0-8d1c-bbe53218545c",
   "metadata": {},
   "outputs": [],
   "source": [
    "def optimize_model():\n",
    "    if len(memory) < BATCH_SIZE:\n",
    "        return\n",
    "    transitions = memory.sample(BATCH_SIZE)\n",
    "    # Transpose the batch (see https://stackoverflow.com/a/19343/3343043 for\n",
    "    # detailed explanation). This converts batch-array of Transitions\n",
    "    # to Transition of batch-arrays.\n",
    "    batch = Transition(*zip(*transitions))\n",
    "\n",
    "    # Compute a mask of non-final states and concatenate the batch elements\n",
    "    # (a final state would've been the one after which simulation ended)\n",
    "    non_final_mask = torch.tensor(tuple(map(lambda s: s is not None,\n",
    "                                          batch.next_state)), device=device, dtype=torch.bool)\n",
    "    non_final_next_states = torch.cat([s for s in batch.next_state\n",
    "                                                if s is not None])\n",
    "    state_batch = torch.cat(batch.state)\n",
    "    action_batch = torch.cat(batch.action)\n",
    "    reward_batch = torch.cat(batch.reward)\n",
    "\n",
    "    # Compute Q(s_t, a) - the model computes Q(s_t), then we select the\n",
    "    # columns of actions taken. These are the actions which would've been taken\n",
    "    # for each batch state according to policy_net\n",
    "    state_action_values = policy_net(state_batch).gather(1, action_batch)\n",
    "\n",
    "    # Compute V(s_{t+1}) for all next states.\n",
    "    # Expected values of actions for non_final_next_states are computed based\n",
    "    # on the \"older\" target_net; selecting their best reward with max(1).values\n",
    "    # This is merged based on the mask, such that we'll have either the expected\n",
    "    # state value or 0 in case the state was final.\n",
    "    next_state_values = torch.zeros(BATCH_SIZE, device=device)\n",
    "    with torch.no_grad():\n",
    "        next_state_values[non_final_mask] = target_net(non_final_next_states).max(1).values\n",
    "    # Compute the expected Q values\n",
    "    expected_state_action_values = (next_state_values * GAMMA) + reward_batch\n",
    "\n",
    "    # Compute Huber loss\n",
    "    criterion = nn.SmoothL1Loss()\n",
    "    loss = criterion(state_action_values, expected_state_action_values.unsqueeze(1))\n",
    "\n",
    "    # Optimize the model\n",
    "    optimizer.zero_grad()\n",
    "    loss.backward()\n",
    "    # In-place gradient clipping\n",
    "    torch.nn.utils.clip_grad_value_(policy_net.parameters(), 100)\n",
    "    optimizer.step()"
   ]
  },
  {
   "cell_type": "code",
   "execution_count": 28,
   "id": "ca0f12b8-cca7-4bf7-a5ce-bddca5a74f1b",
   "metadata": {},
   "outputs": [
    {
     "ename": "KeyboardInterrupt",
     "evalue": "",
     "output_type": "error",
     "traceback": [
      "\u001b[0;31m---------------------------------------------------------------------------\u001b[0m",
      "\u001b[0;31mKeyboardInterrupt\u001b[0m                         Traceback (most recent call last)",
      "Cell \u001b[0;32mIn[28], line 12\u001b[0m\n\u001b[1;32m     10\u001b[0m \u001b[38;5;28;01mfor\u001b[39;00m t \u001b[38;5;129;01min\u001b[39;00m count():\n\u001b[1;32m     11\u001b[0m     action \u001b[38;5;241m=\u001b[39m select_action(state)\n\u001b[0;32m---> 12\u001b[0m     observation, reward, terminated, truncated, _ \u001b[38;5;241m=\u001b[39m \u001b[43menv\u001b[49m\u001b[38;5;241;43m.\u001b[39;49m\u001b[43mstep\u001b[49m\u001b[43m(\u001b[49m\u001b[43maction\u001b[49m\u001b[38;5;241;43m.\u001b[39;49m\u001b[43mitem\u001b[49m\u001b[43m(\u001b[49m\u001b[43m)\u001b[49m\u001b[43m)\u001b[49m\n\u001b[1;32m     13\u001b[0m     reward \u001b[38;5;241m=\u001b[39m torch\u001b[38;5;241m.\u001b[39mtensor([reward], device\u001b[38;5;241m=\u001b[39mdevice)\n\u001b[1;32m     14\u001b[0m     done \u001b[38;5;241m=\u001b[39m terminated \u001b[38;5;129;01mor\u001b[39;00m truncated\n",
      "File \u001b[0;32m~/.local/lib/python3.10/site-packages/gymnasium/wrappers/time_limit.py:57\u001b[0m, in \u001b[0;36mTimeLimit.step\u001b[0;34m(self, action)\u001b[0m\n\u001b[1;32m     46\u001b[0m \u001b[38;5;28;01mdef\u001b[39;00m \u001b[38;5;21mstep\u001b[39m(\u001b[38;5;28mself\u001b[39m, action):\n\u001b[1;32m     47\u001b[0m \u001b[38;5;250m    \u001b[39m\u001b[38;5;124;03m\"\"\"Steps through the environment and if the number of steps elapsed exceeds ``max_episode_steps`` then truncate.\u001b[39;00m\n\u001b[1;32m     48\u001b[0m \n\u001b[1;32m     49\u001b[0m \u001b[38;5;124;03m    Args:\u001b[39;00m\n\u001b[0;32m   (...)\u001b[0m\n\u001b[1;32m     55\u001b[0m \n\u001b[1;32m     56\u001b[0m \u001b[38;5;124;03m    \"\"\"\u001b[39;00m\n\u001b[0;32m---> 57\u001b[0m     observation, reward, terminated, truncated, info \u001b[38;5;241m=\u001b[39m \u001b[38;5;28;43mself\u001b[39;49m\u001b[38;5;241;43m.\u001b[39;49m\u001b[43menv\u001b[49m\u001b[38;5;241;43m.\u001b[39;49m\u001b[43mstep\u001b[49m\u001b[43m(\u001b[49m\u001b[43maction\u001b[49m\u001b[43m)\u001b[49m\n\u001b[1;32m     58\u001b[0m     \u001b[38;5;28mself\u001b[39m\u001b[38;5;241m.\u001b[39m_elapsed_steps \u001b[38;5;241m+\u001b[39m\u001b[38;5;241m=\u001b[39m \u001b[38;5;241m1\u001b[39m\n\u001b[1;32m     60\u001b[0m     \u001b[38;5;28;01mif\u001b[39;00m \u001b[38;5;28mself\u001b[39m\u001b[38;5;241m.\u001b[39m_elapsed_steps \u001b[38;5;241m>\u001b[39m\u001b[38;5;241m=\u001b[39m \u001b[38;5;28mself\u001b[39m\u001b[38;5;241m.\u001b[39m_max_episode_steps:\n",
      "File \u001b[0;32m~/.local/lib/python3.10/site-packages/gymnasium/wrappers/order_enforcing.py:56\u001b[0m, in \u001b[0;36mOrderEnforcing.step\u001b[0;34m(self, action)\u001b[0m\n\u001b[1;32m     54\u001b[0m \u001b[38;5;28;01mif\u001b[39;00m \u001b[38;5;129;01mnot\u001b[39;00m \u001b[38;5;28mself\u001b[39m\u001b[38;5;241m.\u001b[39m_has_reset:\n\u001b[1;32m     55\u001b[0m     \u001b[38;5;28;01mraise\u001b[39;00m ResetNeeded(\u001b[38;5;124m\"\u001b[39m\u001b[38;5;124mCannot call env.step() before calling env.reset()\u001b[39m\u001b[38;5;124m\"\u001b[39m)\n\u001b[0;32m---> 56\u001b[0m \u001b[38;5;28;01mreturn\u001b[39;00m \u001b[38;5;28;43mself\u001b[39;49m\u001b[38;5;241;43m.\u001b[39;49m\u001b[43menv\u001b[49m\u001b[38;5;241;43m.\u001b[39;49m\u001b[43mstep\u001b[49m\u001b[43m(\u001b[49m\u001b[43maction\u001b[49m\u001b[43m)\u001b[49m\n",
      "File \u001b[0;32m~/.local/lib/python3.10/site-packages/gymnasium/wrappers/env_checker.py:51\u001b[0m, in \u001b[0;36mPassiveEnvChecker.step\u001b[0;34m(self, action)\u001b[0m\n\u001b[1;32m     49\u001b[0m     \u001b[38;5;28;01mreturn\u001b[39;00m env_step_passive_checker(\u001b[38;5;28mself\u001b[39m\u001b[38;5;241m.\u001b[39menv, action)\n\u001b[1;32m     50\u001b[0m \u001b[38;5;28;01melse\u001b[39;00m:\n\u001b[0;32m---> 51\u001b[0m     \u001b[38;5;28;01mreturn\u001b[39;00m \u001b[38;5;28;43mself\u001b[39;49m\u001b[38;5;241;43m.\u001b[39;49m\u001b[43menv\u001b[49m\u001b[38;5;241;43m.\u001b[39;49m\u001b[43mstep\u001b[49m\u001b[43m(\u001b[49m\u001b[43maction\u001b[49m\u001b[43m)\u001b[49m\n",
      "File \u001b[0;32m~/.local/lib/python3.10/site-packages/gymnasium/envs/box2d/lunar_lander.py:631\u001b[0m, in \u001b[0;36mLunarLander.step\u001b[0;34m(self, action)\u001b[0m\n\u001b[1;32m    617\u001b[0m         p\u001b[38;5;241m.\u001b[39mApplyLinearImpulse(\n\u001b[1;32m    618\u001b[0m             (\n\u001b[1;32m    619\u001b[0m                 ox \u001b[38;5;241m*\u001b[39m SIDE_ENGINE_POWER \u001b[38;5;241m*\u001b[39m s_power,\n\u001b[0;32m   (...)\u001b[0m\n\u001b[1;32m    623\u001b[0m             \u001b[38;5;28;01mTrue\u001b[39;00m,\n\u001b[1;32m    624\u001b[0m         )\n\u001b[1;32m    625\u001b[0m     \u001b[38;5;28mself\u001b[39m\u001b[38;5;241m.\u001b[39mlander\u001b[38;5;241m.\u001b[39mApplyLinearImpulse(\n\u001b[1;32m    626\u001b[0m         (\u001b[38;5;241m-\u001b[39mox \u001b[38;5;241m*\u001b[39m SIDE_ENGINE_POWER \u001b[38;5;241m*\u001b[39m s_power, \u001b[38;5;241m-\u001b[39moy \u001b[38;5;241m*\u001b[39m SIDE_ENGINE_POWER \u001b[38;5;241m*\u001b[39m s_power),\n\u001b[1;32m    627\u001b[0m         impulse_pos,\n\u001b[1;32m    628\u001b[0m         \u001b[38;5;28;01mTrue\u001b[39;00m,\n\u001b[1;32m    629\u001b[0m     )\n\u001b[0;32m--> 631\u001b[0m \u001b[38;5;28;43mself\u001b[39;49m\u001b[38;5;241;43m.\u001b[39;49m\u001b[43mworld\u001b[49m\u001b[38;5;241;43m.\u001b[39;49m\u001b[43mStep\u001b[49m\u001b[43m(\u001b[49m\u001b[38;5;241;43m1.0\u001b[39;49m\u001b[43m \u001b[49m\u001b[38;5;241;43m/\u001b[39;49m\u001b[43m \u001b[49m\u001b[43mFPS\u001b[49m\u001b[43m,\u001b[49m\u001b[43m \u001b[49m\u001b[38;5;241;43m6\u001b[39;49m\u001b[43m \u001b[49m\u001b[38;5;241;43m*\u001b[39;49m\u001b[43m \u001b[49m\u001b[38;5;241;43m30\u001b[39;49m\u001b[43m,\u001b[49m\u001b[43m \u001b[49m\u001b[38;5;241;43m2\u001b[39;49m\u001b[43m \u001b[49m\u001b[38;5;241;43m*\u001b[39;49m\u001b[43m \u001b[49m\u001b[38;5;241;43m30\u001b[39;49m\u001b[43m)\u001b[49m\n\u001b[1;32m    633\u001b[0m pos \u001b[38;5;241m=\u001b[39m \u001b[38;5;28mself\u001b[39m\u001b[38;5;241m.\u001b[39mlander\u001b[38;5;241m.\u001b[39mposition\n\u001b[1;32m    634\u001b[0m vel \u001b[38;5;241m=\u001b[39m \u001b[38;5;28mself\u001b[39m\u001b[38;5;241m.\u001b[39mlander\u001b[38;5;241m.\u001b[39mlinearVelocity\n",
      "\u001b[0;31mKeyboardInterrupt\u001b[0m: "
     ]
    }
   ],
   "source": [
    "if torch.cuda.is_available():\n",
    "    num_episodes = 600\n",
    "else:\n",
    "    num_episodes = 50\n",
    "\n",
    "for i_episode in range(num_episodes):\n",
    "    # Initialize the environment and get its state\n",
    "    state, info = env.reset()\n",
    "    state = torch.tensor(state, dtype=torch.float32, device=device).unsqueeze(0)\n",
    "    for t in count():\n",
    "        action = select_action(state)\n",
    "        observation, reward, terminated, truncated, _ = env.step(action.item())\n",
    "        reward = torch.tensor([reward], device=device)\n",
    "        done = terminated or truncated\n",
    "\n",
    "        if terminated:\n",
    "            next_state = None\n",
    "        else:\n",
    "            next_state = torch.tensor(observation, dtype=torch.float32, device=device).unsqueeze(0)\n",
    "\n",
    "        # Store the transition in memory\n",
    "        memory.push(state, action, next_state, reward)\n",
    "\n",
    "        # Move to the next state\n",
    "        state = next_state\n",
    "\n",
    "        # Perform one step of the optimization (on the policy network)\n",
    "        optimize_model()\n",
    "\n",
    "        # Soft update of the target network's weights\n",
    "        # θ′ ← τ θ + (1 −τ )θ′\n",
    "        target_net_state_dict = target_net.state_dict()\n",
    "        policy_net_state_dict = policy_net.state_dict()\n",
    "        for key in policy_net_state_dict:\n",
    "            target_net_state_dict[key] = policy_net_state_dict[key]*TAU + target_net_state_dict[key]*(1-TAU)\n",
    "        target_net.load_state_dict(target_net_state_dict)\n",
    "\n",
    "        if done:\n",
    "            episode_durations.append(t + 1)\n",
    "            plot_durations()\n",
    "            break\n",
    "\n",
    "print('Complete')\n",
    "plot_durations(show_result=True)\n",
    "plt.ioff()\n",
    "plt.show()"
   ]
  },
  {
   "cell_type": "code",
   "execution_count": 23,
   "id": "ef503c3c-6f67-45ff-bcbe-31a9585cc7af",
   "metadata": {},
   "outputs": [],
   "source": [
    "import ipywidgets as widgets\n",
    "from PIL import Image\n",
    "import time\n",
    "import io\n",
    "\n",
    "class ArrayRenderWidget(widgets.Image):\n",
    "    def render(self, frame):\n",
    "        img = Image.fromarray(frame, 'RGB')\n",
    "        with io.BytesIO() as buf:\n",
    "            img.save(buf, format='PNG')\n",
    "            image_data = buf.getvalue()\n",
    "        self.value = image_data\n",
    "        \n",
    "image_widget = ArrayRenderWidget(\n",
    "    format='png',\n",
    "    width=600,\n",
    "    height=400,\n",
    ")"
   ]
  },
  {
   "cell_type": "code",
   "execution_count": 27,
   "id": "8be7d024-3a6c-450e-8ed7-9d3e16040269",
   "metadata": {},
   "outputs": [
    {
     "data": {
      "application/vnd.jupyter.widget-view+json": {
       "model_id": "4f24a6d10b9a413f98071c2cee371cc7",
       "version_major": 2,
       "version_minor": 0
      },
      "text/plain": [
       "ArrayRenderWidget(value=b'\\x89PNG\\r\\n\\x1a\\n\\x00\\x00\\x00\\rIHDR\\x00\\x00\\x02X\\x00\\x00\\x01\\x90\\x08\\x02\\x00\\x00\\x00…"
      ]
     },
     "metadata": {},
     "output_type": "display_data"
    },
    {
     "ename": "KeyboardInterrupt",
     "evalue": "",
     "output_type": "error",
     "traceback": [
      "\u001b[0;31m---------------------------------------------------------------------------\u001b[0m",
      "\u001b[0;31mKeyboardInterrupt\u001b[0m                         Traceback (most recent call last)",
      "Cell \u001b[0;32mIn[27], line 17\u001b[0m\n\u001b[1;32m     14\u001b[0m action \u001b[38;5;241m=\u001b[39m action\u001b[38;5;241m.\u001b[39mdetach()\u001b[38;5;241m.\u001b[39mcpu()\u001b[38;5;241m.\u001b[39mnumpy()\n\u001b[1;32m     16\u001b[0m observation, reward, terminated, truncated, info \u001b[38;5;241m=\u001b[39m env\u001b[38;5;241m.\u001b[39mstep(action)\n\u001b[0;32m---> 17\u001b[0m \u001b[43mtime\u001b[49m\u001b[38;5;241;43m.\u001b[39;49m\u001b[43msleep\u001b[49m\u001b[43m(\u001b[49m\u001b[38;5;241;43m1\u001b[39;49m\u001b[38;5;241;43m/\u001b[39;49m\u001b[38;5;241;43m30\u001b[39;49m\u001b[43m)\u001b[49m\n\u001b[1;32m     19\u001b[0m \u001b[38;5;28;01mif\u001b[39;00m terminated \u001b[38;5;129;01mor\u001b[39;00m truncated:\n\u001b[1;32m     20\u001b[0m     observation, info \u001b[38;5;241m=\u001b[39m env\u001b[38;5;241m.\u001b[39mreset()\n",
      "\u001b[0;31mKeyboardInterrupt\u001b[0m: "
     ]
    }
   ],
   "source": [
    "env = gym.make(ENV, render_mode=\"rgb_array\")\n",
    "\n",
    "observation, info = env.reset()\n",
    "\n",
    "display.display(image_widget)\n",
    "image_widget.render(env.render())\n",
    "for _ in range(1000):\n",
    "    image_widget.render(env.render())\n",
    "\n",
    "\n",
    "    # action = env.action_space.sample()\n",
    "    rewards = policy_net(torch.tensor(observation).to(device))\n",
    "    action = torch.argmax(rewards)\n",
    "    action = action.detach().cpu().numpy()\n",
    "    \n",
    "    observation, reward, terminated, truncated, info = env.step(action)\n",
    "    time.sleep(1/30)\n",
    "\n",
    "    if terminated or truncated:\n",
    "        observation, info = env.reset()\n",
    "\n",
    "env.close()"
   ]
  },
  {
   "cell_type": "markdown",
   "id": "b53bb951-94ee-4a16-9cd0-1770d82280ef",
   "metadata": {},
   "source": [
    "## Continuos Action Space"
   ]
  },
  {
   "cell_type": "markdown",
   "id": "df7fa8d6-b663-47c8-ae7f-981ecf33edcf",
   "metadata": {},
   "source": [
    "### Discretization"
   ]
  },
  {
   "cell_type": "code",
   "execution_count": 69,
   "id": "96a857ab-30bd-4905-8442-579d0442bbe3",
   "metadata": {},
   "outputs": [],
   "source": [
    "ENV = \"LunarLander-v2\"\n",
    "\n",
    "env = gym.make(ENV, continuous=True)"
   ]
  },
  {
   "cell_type": "code",
   "execution_count": 5,
   "id": "d29955c6-9c94-4b13-884d-b53e84177c03",
   "metadata": {},
   "outputs": [
    {
     "name": "stdout",
     "output_type": "stream",
     "text": [
      "tensor([[-2.3603e-01,  2.1152e+00,  5.1382e-01, -7.5329e-01, -5.0548e-01,\n",
      "          1.0356e+00,  9.1408e-01, -1.8720e+00, -4.6602e-01, -8.5839e-01],\n",
      "        [-1.1753e-02, -2.1365e+00, -2.4842e+00, -7.4930e-01,  2.0107e-01,\n",
      "          5.1604e-01, -2.1930e-01,  3.8726e-01, -6.8372e-01, -8.0837e-02],\n",
      "        [-5.8296e-01,  7.5303e-01, -1.8795e-01,  7.7095e-02,  1.0578e-01,\n",
      "          6.4353e-01, -9.7231e-01, -1.1102e+00,  9.3758e-02, -2.9694e-01],\n",
      "        [-1.4749e+00,  1.2497e+00, -1.6271e+00,  1.8139e+00, -4.9072e-01,\n",
      "         -2.3762e-01,  6.4897e-01, -2.8345e-01,  5.4384e-01, -4.4040e-01],\n",
      "        [ 7.5439e-01,  1.3158e+00,  4.6082e-01, -7.8481e-01, -1.2086e+00,\n",
      "          3.7185e-01, -3.0356e-01,  1.1270e+00, -4.7545e-01, -1.2626e+00],\n",
      "        [ 1.0954e+00, -4.7233e-01,  5.8889e-01, -2.4507e+00,  1.2598e+00,\n",
      "          1.5547e+00, -2.6286e-01, -5.3695e-01, -8.6354e-01, -3.9769e-02],\n",
      "        [ 2.7810e+00,  1.1284e+00,  1.0309e+00,  1.4198e+00,  5.9727e-01,\n",
      "          8.0605e-01,  4.4906e-01, -1.4096e+00,  9.4468e-02, -1.2750e-01],\n",
      "        [ 1.4337e+00,  7.1617e-01,  3.6179e-01,  5.8388e-02, -7.9768e-01,\n",
      "          5.5831e-02,  1.2846e-01, -1.4416e+00,  1.2369e+00,  3.8462e-01],\n",
      "        [-1.7539e-01, -1.0584e+00, -1.5291e+00,  7.6154e-01,  1.1342e+00,\n",
      "          9.3618e-03, -5.8361e-01,  1.7344e+00, -7.6519e-01, -2.4036e-03],\n",
      "        [-1.5630e+00,  2.1301e-01,  2.6889e-01, -1.3386e+00, -5.4373e-01,\n",
      "          1.2376e+00,  8.3020e-01,  1.7768e+00,  1.5136e+00,  1.0854e+00]],\n",
      "       device='cuda:0')\n",
      "tensor([ 0.3333, -1.0000], device='cuda:0')\n",
      "tensor([6., 0.], device='cuda:0')\n",
      "tensor([[0., 0., 0., 0., 0., 0., 0., 0., 0., 0.],\n",
      "        [0., 0., 0., 0., 0., 0., 0., 0., 0., 0.],\n",
      "        [0., 0., 0., 0., 0., 0., 0., 0., 0., 0.],\n",
      "        [0., 0., 0., 0., 0., 0., 0., 0., 0., 0.],\n",
      "        [0., 0., 0., 0., 0., 0., 0., 0., 0., 0.],\n",
      "        [0., 0., 0., 0., 0., 0., 0., 0., 0., 0.],\n",
      "        [1., 0., 0., 0., 0., 0., 0., 0., 0., 0.],\n",
      "        [0., 0., 0., 0., 0., 0., 0., 0., 0., 0.],\n",
      "        [0., 0., 0., 0., 0., 0., 0., 0., 0., 0.],\n",
      "        [0., 0., 0., 0., 0., 0., 0., 0., 0., 0.]], device='cuda:0')\n"
     ]
    }
   ],
   "source": [
    "NUM_STEPS = 10\n",
    "\n",
    "action_high = torch.tensor(env.action_space.high, device=device)\n",
    "action_low = torch.tensor(env.action_space.low, device=device)\n",
    "\n",
    "def discretized_to_continuous(x, one_hot=False):\n",
    "    if one_hot:\n",
    "        x = (x==torch.max(x)).nonzero()[0]\n",
    "    return x / (NUM_STEPS - 1) * (action_high - action_low) + action_low\n",
    "\n",
    "def continuous_to_discretized(x, one_hot=False):\n",
    "    disc = (x - action_low) / (action_high - action_low) * (NUM_STEPS - 1)\n",
    "    if one_hot:\n",
    "        # mask = torch.nn.functional.one_hot(disc.type(torch.LongTensor), num_classes=NUM_STEPS)\n",
    "        mask = torch.zeros([NUM_STEPS for _ in range(env.action_space.shape[0])], device=device)\n",
    "        disc = disc.type(torch.LongTensor)\n",
    "        mask[torch.chunk(disc, len(disc))] = 1\n",
    "        disc = mask\n",
    "    return disc\n",
    "\n",
    "sample = torch.randn([NUM_STEPS for _ in range(env.action_space.shape[0])], device=device)\n",
    "# sample = (torch.rand(env.action_space.shape[0]) * NUM_STEPS).type(torch.LongTensor).to(device=device)\n",
    "cont = discretized_to_continuous(sample, one_hot=True)\n",
    "disc =  continuous_to_discretized(cont)\n",
    "one_hot = continuous_to_discretized(cont, True)\n",
    "\n",
    "print(sample)\n",
    "print(cont)\n",
    "print(disc)\n",
    "print(one_hot)"
   ]
  },
  {
   "cell_type": "code",
   "execution_count": 6,
   "id": "44b91614-78a7-4153-bcb6-9adb8c265aee",
   "metadata": {},
   "outputs": [
    {
     "data": {
      "text/plain": [
       "<All keys matched successfully>"
      ]
     },
     "execution_count": 6,
     "metadata": {},
     "output_type": "execute_result"
    }
   ],
   "source": [
    "class DQN(nn.Module):\n",
    "    def __init__(self, n_observations, action_space_dim, num_steps):\n",
    "        super(DQN, self).__init__()\n",
    "        self.action_space_dim = action_space_dim\n",
    "        self.num_steps = num_steps\n",
    "        self.layer1 = nn.Linear(n_observations, 128)\n",
    "        self.layer2 = nn.Linear(128, 128)\n",
    "\n",
    "        num_outs = num_steps ** action_space_dim\n",
    "                            \n",
    "        self.layer3 = nn.Linear(128, num_outs)\n",
    "\n",
    "    def forward(self, x):\n",
    "        is_batch = len(x.shape) == 2\n",
    "        x = F.relu(self.layer1(x))\n",
    "        x = F.relu(self.layer2(x))\n",
    "        x = self.layer3(x)\n",
    "        if is_batch:\n",
    "            x = x.reshape([x.shape[0], ] + [self.num_steps for _ in range(self.action_space_dim)])\n",
    "        else: \n",
    "            x = x.reshape([self.num_steps for _ in range(self.action_space_dim)])\n",
    "\n",
    "        return x\n",
    "\n",
    "# Get number of actions from gym action space\n",
    "# Get the number of state observations\n",
    "state, info = env.reset()\n",
    "n_observations = len(state)\n",
    "action_space_dim = env.action_space.shape[0]\n",
    "\n",
    "policy_net = DQN(n_observations, action_space_dim, NUM_STEPS).to(device)\n",
    "target_net = DQN(n_observations, action_space_dim, NUM_STEPS).to(device)\n",
    "target_net.load_state_dict(policy_net.state_dict())"
   ]
  },
  {
   "cell_type": "code",
   "execution_count": 7,
   "id": "580b7f41-5053-4da5-8a70-fe7100820368",
   "metadata": {},
   "outputs": [
    {
     "data": {
      "text/plain": [
       "torch.Size([128, 100])"
      ]
     },
     "execution_count": 7,
     "metadata": {},
     "output_type": "execute_result"
    }
   ],
   "source": [
    "test_state_batch = torch.zeros((128, *env.observation_space.shape), device=device)\n",
    "out = policy_net(test_state_batch)\n",
    "out.flatten(start_dim=1).shape"
   ]
  },
  {
   "cell_type": "code",
   "execution_count": 70,
   "id": "b438075a-06e7-461f-ab0d-97abe246cbd4",
   "metadata": {},
   "outputs": [],
   "source": [
    "BATCH_SIZE = 128\n",
    "GAMMA = 0.99\n",
    "EPS_START = 0.9\n",
    "EPS_END = 0.01\n",
    "EPS_DECAY = 1000\n",
    "TAU = 0.005\n",
    "LR = 1e-4\n",
    "\n",
    "optimizer = optim.AdamW(policy_net.parameters(), lr=LR, amsgrad=True)\n",
    "memory = ReplayMemory(10000)\n",
    "\n",
    "def select_action(state, step):\n",
    "    sample = random.random()\n",
    "    eps_threshold = EPS_END + (EPS_START - EPS_END) * \\\n",
    "        math.exp(-1. * step / EPS_DECAY)\n",
    "    if sample > eps_threshold:\n",
    "        with torch.no_grad():\n",
    "            return discretized_to_continuous(policy_net(state), one_hot=True)\n",
    "    else:\n",
    "        return torch.tensor(env.action_space.sample(), device=device)"
   ]
  },
  {
   "cell_type": "code",
   "execution_count": 71,
   "id": "48506ce6-5116-4c43-8dc4-2ae003436624",
   "metadata": {},
   "outputs": [
    {
     "name": "stdout",
     "output_type": "stream",
     "text": [
      "[ 1.        -0.1111111]\n"
     ]
    },
    {
     "data": {
      "text/plain": [
       "-4.501729208911217"
      ]
     },
     "execution_count": 71,
     "metadata": {},
     "output_type": "execute_result"
    }
   ],
   "source": [
    "observation, _ = env.reset()\n",
    "action = select_action(torch.tensor(observation, device=device), 10000).detach().cpu().numpy()\n",
    "print(action)\n",
    "\n",
    "observation, reward, *_ = env.step(action)\n",
    "reward"
   ]
  },
  {
   "cell_type": "code",
   "execution_count": 72,
   "id": "586c9736-07df-494d-a1d7-d00570524849",
   "metadata": {},
   "outputs": [],
   "source": [
    "def discrete_to_flat_index(x):\n",
    "    x *= torch.tensor([NUM_STEPS, 0.0], device=device) \n",
    "    return torch.sum(x).type(torch.LongTensor)\n",
    "    "
   ]
  },
  {
   "cell_type": "code",
   "execution_count": 77,
   "id": "9243cf2e-c1c1-4c45-887a-954b363264e8",
   "metadata": {},
   "outputs": [],
   "source": [
    "def optimize_model():\n",
    "    if len(memory) < BATCH_SIZE:\n",
    "        return torch.tensor(0)\n",
    "    transitions = memory.sample(BATCH_SIZE)\n",
    "    batch = Transition(*zip(*transitions))\n",
    "    \n",
    "    non_final_mask = torch.tensor(tuple(map(lambda s: s is not None,\n",
    "                                          batch.next_state)), device=device, dtype=torch.bool)\n",
    "    non_final_next_states = torch.stack([s for s in batch.next_state\n",
    "                                                if s is not None])\n",
    "    state_batch = torch.stack(batch.state)\n",
    "    action_batch = torch.stack([discrete_to_flat_index(continuous_to_discretized(action)) for action in batch.action]).type(torch.LongTensor).to(device)\n",
    "    reward_batch = torch.cat(batch.reward)\n",
    "    \n",
    "    state_action_values = policy_net(state_batch).flatten(start_dim=1).gather(1, action_batch.unsqueeze(0)).squeeze()\n",
    "    \n",
    "    next_state_values = torch.zeros(BATCH_SIZE, device=device)\n",
    "    with torch.no_grad():\n",
    "        next_state_values[non_final_mask] = target_net(non_final_next_states).flatten(start_dim=1).max(1).values\n",
    "    # Compute the expected Q values\n",
    "    expected_state_action_values = (next_state_values * GAMMA) + reward_batch\n",
    "    \n",
    "    # Compute Huber loss\n",
    "    criterion = nn.SmoothL1Loss()\n",
    "    loss = criterion(state_action_values, expected_state_action_values)\n",
    "     \n",
    "    # Optimize the model\n",
    "    optimizer.zero_grad()\n",
    "    loss.backward()\n",
    "    # In-place gradient clipping\n",
    "    torch.nn.utils.clip_grad_value_(policy_net.parameters(), 100)\n",
    "    optimizer.step()\n",
    "    return loss"
   ]
  },
  {
   "cell_type": "code",
   "execution_count": 78,
   "id": "051b54ba-1838-456f-b04d-ab41fe16e2ee",
   "metadata": {},
   "outputs": [
    {
     "data": {
      "text/plain": [
       "tensor(0)"
      ]
     },
     "execution_count": 78,
     "metadata": {},
     "output_type": "execute_result"
    }
   ],
   "source": [
    "optimize_model()"
   ]
  },
  {
   "cell_type": "code",
   "execution_count": 79,
   "id": "08c20a2d-aaa6-4a6e-8921-1fd36bccbc6e",
   "metadata": {},
   "outputs": [],
   "source": [
    "def plot(rewards, losses, show_result=False):\n",
    "    plt.figure(1)\n",
    "    losses_t = torch.tensor(losses, dtype=torch.float)\n",
    "    rewards_t = torch.tensor(rewards, dtype=torch.float)\n",
    "\n",
    "    if show_result:\n",
    "        plt.title('Result')\n",
    "    else:\n",
    "        plt.clf()\n",
    "        plt.title('Training...')\n",
    "    plt.xlabel('Episode')\n",
    "    plt.plot(losses_t.numpy(), label=\"loss\")\n",
    "    # plt.plot(rewards_t.numpy(), label=\"reward\")\n",
    "    plt.legend()\n",
    "\n",
    "    plt.pause(0.001)  # pause a bit so that plots are updated\n",
    "    if not show_result:\n",
    "        display.display(plt.gcf())\n",
    "        display.clear_output(wait=True)\n",
    "    else:\n",
    "        display.display(plt.gcf())"
   ]
  },
  {
   "cell_type": "code",
   "execution_count": 80,
   "id": "4a8eaed8-fbbc-4a24-b97a-f562f7fd6883",
   "metadata": {},
   "outputs": [
    {
     "data": {
      "text/plain": [
       "<Figure size 640x480 with 0 Axes>"
      ]
     },
     "metadata": {},
     "output_type": "display_data"
    }
   ],
   "source": [
    "num_episodes = 2000\n",
    "episode_durations = []\n",
    "rewards = []\n",
    "losses = []\n",
    "step = 0\n",
    "\n",
    "# for i_episode in tqdm(range(num_episodes)):\n",
    "for i_episode in range(num_episodes):\n",
    "    # Initialize the environment and get its state\n",
    "    state, info = env.reset()\n",
    "    state = torch.tensor(state, dtype=torch.float32, device=device)\n",
    "    episode_reward = 0\n",
    "    episode_losses = []\n",
    "\n",
    "    for t in count():\n",
    "        action = select_action(state, step)\n",
    "        observation, reward, terminated, truncated, _ = env.step(action.detach().cpu().numpy())\n",
    "        reward = torch.tensor([reward], device=device)\n",
    "        episode_reward += reward\n",
    "        done = terminated or truncated\n",
    "\n",
    "        if terminated:\n",
    "            next_state = None\n",
    "        else:\n",
    "            next_state = torch.tensor(observation, dtype=torch.float32, device=device)\n",
    "\n",
    "        # Store the transition in memory\n",
    "        memory.push(state, action, next_state, reward)\n",
    "\n",
    "        # Move to the next state\n",
    "        state = next_state\n",
    "\n",
    "        # Perform one step of the optimization (on the policy network)\n",
    "        loss = optimize_model()\n",
    "        episode_losses.append(loss)\n",
    "\n",
    "        # Soft update of the target network's weights\n",
    "        # θ′ ← τ θ + (1 −τ )θ′\n",
    "        target_net_state_dict = target_net.state_dict()\n",
    "        policy_net_state_dict = policy_net.state_dict()\n",
    "        for key in policy_net_state_dict:\n",
    "            target_net_state_dict[key] = policy_net_state_dict[key]*TAU + target_net_state_dict[key]*(1-TAU)\n",
    "        target_net.load_state_dict(target_net_state_dict)\n",
    "\n",
    "        if done:\n",
    "            episode_durations.append(t + 1)\n",
    "            rewards.append(episode_reward)\n",
    "            losses.append(torch.mean(torch.tensor(episode_losses)))\n",
    "            print(\"Rewards: \", rewards[-1], \" Losses: \", losses[-1])\n",
    "            plot(rewards, losses)\n",
    "            break"
   ]
  },
  {
   "cell_type": "code",
   "execution_count": 68,
   "id": "cba1c645-bd09-4e9c-94b8-438798f35a5e",
   "metadata": {},
   "outputs": [
    {
     "data": {
      "application/vnd.jupyter.widget-view+json": {
       "model_id": "85a8208a034849608d4f383825c2e315",
       "version_major": 2,
       "version_minor": 0
      },
      "text/plain": [
       "ArrayRenderWidget(value=b'\\x89PNG\\r\\n\\x1a\\n\\x00\\x00\\x00\\rIHDR\\x00\\x00\\x02X\\x00\\x00\\x01\\x90\\x08\\x02\\x00\\x00\\x00…"
      ]
     },
     "metadata": {},
     "output_type": "display_data"
    },
    {
     "ename": "KeyboardInterrupt",
     "evalue": "",
     "output_type": "error",
     "traceback": [
      "\u001b[0;31m---------------------------------------------------------------------------\u001b[0m",
      "\u001b[0;31mAttributeError\u001b[0m                            Traceback (most recent call last)",
      "File \u001b[0;32m~/.local/lib/python3.10/site-packages/PIL/ImageFile.py:536\u001b[0m, in \u001b[0;36m_save\u001b[0;34m(im, fp, tile, bufsize)\u001b[0m\n\u001b[1;32m    535\u001b[0m \u001b[38;5;28;01mtry\u001b[39;00m:\n\u001b[0;32m--> 536\u001b[0m     fh \u001b[38;5;241m=\u001b[39m \u001b[43mfp\u001b[49m\u001b[38;5;241;43m.\u001b[39;49m\u001b[43mfileno\u001b[49m()\n\u001b[1;32m    537\u001b[0m     fp\u001b[38;5;241m.\u001b[39mflush()\n",
      "\u001b[0;31mAttributeError\u001b[0m: '_idat' object has no attribute 'fileno'",
      "\nDuring handling of the above exception, another exception occurred:\n",
      "\u001b[0;31mKeyboardInterrupt\u001b[0m                         Traceback (most recent call last)",
      "Cell \u001b[0;32mIn[68], line 8\u001b[0m\n\u001b[1;32m      5\u001b[0m display\u001b[38;5;241m.\u001b[39mdisplay(image_widget)\n\u001b[1;32m      7\u001b[0m \u001b[38;5;28;01mfor\u001b[39;00m _ \u001b[38;5;129;01min\u001b[39;00m \u001b[38;5;28mrange\u001b[39m(\u001b[38;5;241m1000\u001b[39m):\n\u001b[0;32m----> 8\u001b[0m     \u001b[43mimage_widget\u001b[49m\u001b[38;5;241;43m.\u001b[39;49m\u001b[43mrender\u001b[49m\u001b[43m(\u001b[49m\u001b[43menv\u001b[49m\u001b[38;5;241;43m.\u001b[39;49m\u001b[43mrender\u001b[49m\u001b[43m(\u001b[49m\u001b[43m)\u001b[49m\u001b[43m)\u001b[49m\n\u001b[1;32m      9\u001b[0m     \u001b[38;5;66;03m# action = env.action_space.sample()\u001b[39;00m\n\u001b[1;32m     10\u001b[0m     action \u001b[38;5;241m=\u001b[39m discretized_to_continuous(policy_net(torch\u001b[38;5;241m.\u001b[39mtensor(observation)\u001b[38;5;241m.\u001b[39mto(device)), one_hot\u001b[38;5;241m=\u001b[39m\u001b[38;5;28;01mTrue\u001b[39;00m)\n",
      "Cell \u001b[0;32mIn[30], line 10\u001b[0m, in \u001b[0;36mArrayRenderWidget.render\u001b[0;34m(self, frame)\u001b[0m\n\u001b[1;32m      8\u001b[0m img \u001b[38;5;241m=\u001b[39m Image\u001b[38;5;241m.\u001b[39mfromarray(frame, \u001b[38;5;124m'\u001b[39m\u001b[38;5;124mRGB\u001b[39m\u001b[38;5;124m'\u001b[39m)\n\u001b[1;32m      9\u001b[0m \u001b[38;5;28;01mwith\u001b[39;00m io\u001b[38;5;241m.\u001b[39mBytesIO() \u001b[38;5;28;01mas\u001b[39;00m buf:\n\u001b[0;32m---> 10\u001b[0m     \u001b[43mimg\u001b[49m\u001b[38;5;241;43m.\u001b[39;49m\u001b[43msave\u001b[49m\u001b[43m(\u001b[49m\u001b[43mbuf\u001b[49m\u001b[43m,\u001b[49m\u001b[43m \u001b[49m\u001b[38;5;28;43mformat\u001b[39;49m\u001b[38;5;241;43m=\u001b[39;49m\u001b[38;5;124;43m'\u001b[39;49m\u001b[38;5;124;43mPNG\u001b[39;49m\u001b[38;5;124;43m'\u001b[39;49m\u001b[43m)\u001b[49m\n\u001b[1;32m     11\u001b[0m     image_data \u001b[38;5;241m=\u001b[39m buf\u001b[38;5;241m.\u001b[39mgetvalue()\n\u001b[1;32m     12\u001b[0m \u001b[38;5;28mself\u001b[39m\u001b[38;5;241m.\u001b[39mvalue \u001b[38;5;241m=\u001b[39m image_data\n",
      "File \u001b[0;32m~/.local/lib/python3.10/site-packages/PIL/Image.py:2459\u001b[0m, in \u001b[0;36mImage.save\u001b[0;34m(self, fp, format, **params)\u001b[0m\n\u001b[1;32m   2456\u001b[0m         fp \u001b[38;5;241m=\u001b[39m builtins\u001b[38;5;241m.\u001b[39mopen(filename, \u001b[38;5;124m\"\u001b[39m\u001b[38;5;124mw+b\u001b[39m\u001b[38;5;124m\"\u001b[39m)\n\u001b[1;32m   2458\u001b[0m \u001b[38;5;28;01mtry\u001b[39;00m:\n\u001b[0;32m-> 2459\u001b[0m     \u001b[43msave_handler\u001b[49m\u001b[43m(\u001b[49m\u001b[38;5;28;43mself\u001b[39;49m\u001b[43m,\u001b[49m\u001b[43m \u001b[49m\u001b[43mfp\u001b[49m\u001b[43m,\u001b[49m\u001b[43m \u001b[49m\u001b[43mfilename\u001b[49m\u001b[43m)\u001b[49m\n\u001b[1;32m   2460\u001b[0m \u001b[38;5;28;01mexcept\u001b[39;00m \u001b[38;5;167;01mException\u001b[39;00m:\n\u001b[1;32m   2461\u001b[0m     \u001b[38;5;28;01mif\u001b[39;00m open_fp:\n",
      "File \u001b[0;32m~/.local/lib/python3.10/site-packages/PIL/PngImagePlugin.py:1412\u001b[0m, in \u001b[0;36m_save\u001b[0;34m(im, fp, filename, chunk, save_all)\u001b[0m\n\u001b[1;32m   1408\u001b[0m     im \u001b[38;5;241m=\u001b[39m _write_multiple_frames(\n\u001b[1;32m   1409\u001b[0m         im, fp, chunk, rawmode, default_image, append_images\n\u001b[1;32m   1410\u001b[0m     )\n\u001b[1;32m   1411\u001b[0m \u001b[38;5;28;01mif\u001b[39;00m im:\n\u001b[0;32m-> 1412\u001b[0m     \u001b[43mImageFile\u001b[49m\u001b[38;5;241;43m.\u001b[39;49m\u001b[43m_save\u001b[49m\u001b[43m(\u001b[49m\u001b[43mim\u001b[49m\u001b[43m,\u001b[49m\u001b[43m \u001b[49m\u001b[43m_idat\u001b[49m\u001b[43m(\u001b[49m\u001b[43mfp\u001b[49m\u001b[43m,\u001b[49m\u001b[43m \u001b[49m\u001b[43mchunk\u001b[49m\u001b[43m)\u001b[49m\u001b[43m,\u001b[49m\u001b[43m \u001b[49m\u001b[43m[\u001b[49m\u001b[43m(\u001b[49m\u001b[38;5;124;43m\"\u001b[39;49m\u001b[38;5;124;43mzip\u001b[39;49m\u001b[38;5;124;43m\"\u001b[39;49m\u001b[43m,\u001b[49m\u001b[43m \u001b[49m\u001b[43m(\u001b[49m\u001b[38;5;241;43m0\u001b[39;49m\u001b[43m,\u001b[49m\u001b[43m \u001b[49m\u001b[38;5;241;43m0\u001b[39;49m\u001b[43m)\u001b[49m\u001b[43m \u001b[49m\u001b[38;5;241;43m+\u001b[39;49m\u001b[43m \u001b[49m\u001b[43mim\u001b[49m\u001b[38;5;241;43m.\u001b[39;49m\u001b[43msize\u001b[49m\u001b[43m,\u001b[49m\u001b[43m \u001b[49m\u001b[38;5;241;43m0\u001b[39;49m\u001b[43m,\u001b[49m\u001b[43m \u001b[49m\u001b[43mrawmode\u001b[49m\u001b[43m)\u001b[49m\u001b[43m]\u001b[49m\u001b[43m)\u001b[49m\n\u001b[1;32m   1414\u001b[0m \u001b[38;5;28;01mif\u001b[39;00m info:\n\u001b[1;32m   1415\u001b[0m     \u001b[38;5;28;01mfor\u001b[39;00m info_chunk \u001b[38;5;129;01min\u001b[39;00m info\u001b[38;5;241m.\u001b[39mchunks:\n",
      "File \u001b[0;32m~/.local/lib/python3.10/site-packages/PIL/ImageFile.py:540\u001b[0m, in \u001b[0;36m_save\u001b[0;34m(im, fp, tile, bufsize)\u001b[0m\n\u001b[1;32m    538\u001b[0m     _encode_tile(im, fp, tile, bufsize, fh)\n\u001b[1;32m    539\u001b[0m \u001b[38;5;28;01mexcept\u001b[39;00m (\u001b[38;5;167;01mAttributeError\u001b[39;00m, io\u001b[38;5;241m.\u001b[39mUnsupportedOperation) \u001b[38;5;28;01mas\u001b[39;00m exc:\n\u001b[0;32m--> 540\u001b[0m     \u001b[43m_encode_tile\u001b[49m\u001b[43m(\u001b[49m\u001b[43mim\u001b[49m\u001b[43m,\u001b[49m\u001b[43m \u001b[49m\u001b[43mfp\u001b[49m\u001b[43m,\u001b[49m\u001b[43m \u001b[49m\u001b[43mtile\u001b[49m\u001b[43m,\u001b[49m\u001b[43m \u001b[49m\u001b[43mbufsize\u001b[49m\u001b[43m,\u001b[49m\u001b[43m \u001b[49m\u001b[38;5;28;43;01mNone\u001b[39;49;00m\u001b[43m,\u001b[49m\u001b[43m \u001b[49m\u001b[43mexc\u001b[49m\u001b[43m)\u001b[49m\n\u001b[1;32m    541\u001b[0m \u001b[38;5;28;01mif\u001b[39;00m \u001b[38;5;28mhasattr\u001b[39m(fp, \u001b[38;5;124m\"\u001b[39m\u001b[38;5;124mflush\u001b[39m\u001b[38;5;124m\"\u001b[39m):\n\u001b[1;32m    542\u001b[0m     fp\u001b[38;5;241m.\u001b[39mflush()\n",
      "File \u001b[0;32m~/.local/lib/python3.10/site-packages/PIL/ImageFile.py:559\u001b[0m, in \u001b[0;36m_encode_tile\u001b[0;34m(im, fp, tile, bufsize, fh, exc)\u001b[0m\n\u001b[1;32m    556\u001b[0m \u001b[38;5;28;01mif\u001b[39;00m exc:\n\u001b[1;32m    557\u001b[0m     \u001b[38;5;66;03m# compress to Python file-compatible object\u001b[39;00m\n\u001b[1;32m    558\u001b[0m     \u001b[38;5;28;01mwhile\u001b[39;00m \u001b[38;5;28;01mTrue\u001b[39;00m:\n\u001b[0;32m--> 559\u001b[0m         errcode, data \u001b[38;5;241m=\u001b[39m \u001b[43mencoder\u001b[49m\u001b[38;5;241;43m.\u001b[39;49m\u001b[43mencode\u001b[49m\u001b[43m(\u001b[49m\u001b[43mbufsize\u001b[49m\u001b[43m)\u001b[49m[\u001b[38;5;241m1\u001b[39m:]\n\u001b[1;32m    560\u001b[0m         fp\u001b[38;5;241m.\u001b[39mwrite(data)\n\u001b[1;32m    561\u001b[0m         \u001b[38;5;28;01mif\u001b[39;00m errcode:\n",
      "\u001b[0;31mKeyboardInterrupt\u001b[0m: "
     ]
    }
   ],
   "source": [
    "env = gym.make(ENV, continuous=True, render_mode=\"rgb_array\")\n",
    "\n",
    "observation, info = env.reset()\n",
    "\n",
    "display.display(image_widget)\n",
    "\n",
    "for _ in range(1000):\n",
    "    image_widget.render(env.render())\n",
    "    # action = env.action_space.sample()\n",
    "    action = discretized_to_continuous(policy_net(torch.tensor(observation).to(device)), one_hot=True)\n",
    "    action = action.detach().cpu().numpy()\n",
    "    \n",
    "    observation, reward, terminated, truncated, info = env.step(action)\n",
    "    time.sleep(1/30)\n",
    "\n",
    "    if terminated or truncated:\n",
    "        observation, info = env.reset()\n",
    "\n",
    "env.close()"
   ]
  },
  {
   "cell_type": "code",
   "execution_count": null,
   "id": "2b87a785-35a5-4748-a69d-1a05dacf17f9",
   "metadata": {},
   "outputs": [],
   "source": []
  }
 ],
 "metadata": {
  "kernelspec": {
   "display_name": "Python 3 (ipykernel)",
   "language": "python",
   "name": "python3"
  },
  "language_info": {
   "codemirror_mode": {
    "name": "ipython",
    "version": 3
   },
   "file_extension": ".py",
   "mimetype": "text/x-python",
   "name": "python",
   "nbconvert_exporter": "python",
   "pygments_lexer": "ipython3",
   "version": "3.10.12"
  }
 },
 "nbformat": 4,
 "nbformat_minor": 5
}
